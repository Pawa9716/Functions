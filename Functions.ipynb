{
  "nbformat": 4,
  "nbformat_minor": 0,
  "metadata": {
    "colab": {
      "provenance": []
    },
    "kernelspec": {
      "name": "python3",
      "display_name": "Python 3"
    },
    "language_info": {
      "name": "python"
    }
  },
  "cells": [
    {
      "cell_type": "markdown",
      "source": [
        "1. What is the difference between a function and a method in Python?\n",
        "  - In Python, a function is a reusable block of code that performs a specific task and can be called by name, while a method is a function that is associated with an object or class and is invoked using dot notation.\n",
        "  Functions: A function is a named block of code designed to perform a specific task.Functions are called by their name, and they can accept arguments (inputs) and optionally return a value (output).\n",
        "  Example:\n",
        "    def greet(name):\n",
        "      print(f\"Hello, {name}!\")\n",
        "\n",
        "    greet(\"Alice\") # Calling the function\n",
        "  Methods:A method is a function that is defined within a class and is associated with an object (instance) of that class.Methods are called using dot notation on an object (e.g., object.method_name()).\n",
        "Example:\n",
        "\n",
        "    class Dog:\n",
        "        def __init__(self, name):\n",
        "            self.name = name\n",
        "\n",
        "        def bark(self):\n",
        "            print(f\"{self.name} says Woof!\")\n",
        "\n",
        "    my_dog = Dog(\"Buddy\") # Creating an object of the class\n",
        "    my_dog.bark() # Calling the method on the object\n",
        "\n",
        "#2. Explain the concept of function arguments and parameters in Python.\n",
        "  - In Python, function parameters are placeholders for values that a function will receive, while arguments are the actual values passed to the function when it's called.\n",
        "  Parameters:Parameters are the variables listed in the function definition's parentheses. They act as placeholders for the values that will be passed into the function when it's called.\n",
        "  Example:\n",
        "    def greet(name, greeting): - name and greeting are parameters.\n",
        "  Arguments:Arguments are the values that are actually passed to the function when it's called. They provide the data that the function will use to perform its operations.\n",
        "  Example:\n",
        "    greet(\"Alice\", \"Hello\") - \"Alice\" and \"Hello\" are arguments.\n",
        "\n",
        "3. What are the different ways to define and call a function in Python?\n",
        "  - In Python, we define functions using the def keyword, followed by the function name, parentheses for parameters (optional), and a colon, with the function body indented. To call a function, simply use its name followed by parentheses, optionally with arguments.\n",
        "  \n",
        "Example:\n",
        "\n",
        "    def greet(name):\n",
        "        print(f\"Hello, {name}!\")\n",
        "\n",
        "\n",
        "4. What is the purpose of the `return` statement in a Python function?\n",
        "  -The return statement in a Python function serves to terminate the function's execution and send a value back to the caller, allowing the function's output to be used elsewhere in the program.\n",
        "  Example:\n",
        "\n",
        "    def add(x, y):\n",
        "        result = x + y\n",
        "        return result  # Returns the sum of x and y\n",
        "    \n",
        "    sum_result = add(5, 3)  # Call the function and store the returned value\n",
        "    print(sum_result)  # Output: 8\n",
        "\n",
        "5. What are iterators in Python and how do they differ from iterables?\n",
        "  - An iterator is an object that represents a stream of data. It allows you to iterate over a sequence (like a list, tuple, or string) one element at a time. An iterator in Python implements two methods:\n",
        "\n",
        "  __iter__(): This method returns the iterator object itself. It is used to initialize the iterator.\n",
        "\n",
        "  __next__(): This method returns the next item in the sequence. When there are no more items to return, it raises the StopIteration exception.\n",
        "\n",
        "  Example of an Iterator:\n",
        "   List of numbers\n",
        "  numbers = [1, 2, 3]\n",
        "   Get an iterator from the list\n",
        "    iterator = iter(numbers)\n",
        "\n",
        "     Use the iterator to iterate through the list\n",
        "  print(next(iterator))  # Output: 1\n",
        "  print(next(iterator))  # Output: 2\n",
        "  print(next(iterator))  # Output: 3\n",
        "  print(next(iterator))  # Raises StopIteration\n",
        "\n",
        "6. Explain the concept of generators in Python and how they are defined.\n",
        "  - A generator is a special type of iterator in Python that allows you to iterate over a sequence of values, but unlike lists or other iterables, it yields values one at a time instead of storing the entire sequence in memory. Generators are lazy, meaning they generate values only when needed, which can lead to significant memory efficiency when dealing with large datasets or infinite sequences.\n",
        "  Generators can be defined in two main ways:\n",
        "  Using a Generator Function: A normal function that contains the yield keyword.\n",
        "  Using a Generator Expression: A compact, one-line expression using a syntax similar to list comprehensions.\n",
        "  1. Generator Function:\n",
        "      A generator function is defined just like a normal function, but instead of return, it uses yield to provide values one at a time.\n",
        "\n",
        "  Example of a Generator Function:\n",
        "  A generator function to generate square numbers.\n",
        "  \n",
        "    def square_numbers(n):\n",
        "    \n",
        "    for i in range(n):\n",
        "        \n",
        "    yield i * i\n",
        "\n",
        "  Create a generator object\n",
        "squares = square_numbers(5)\n",
        "\n",
        "  Using next() to iterate through the generator\n",
        "    print(next(squares))  # Output: 0\n",
        "    print(next(squares))  # Output: 1\n",
        "    print(next(squares))  # Output: 4\n",
        "    print(next(squares))  # Output: 9\n",
        "    print(next(squares))  # Output: 16\n",
        "\n",
        "  Calling next() again would raise StopIteration because the generator is exhausted\n",
        "  print(next(squares))  # Uncommenting this would raise StopIteration\n",
        "\n",
        "  2. Generator Expression:\n",
        "  A generator expression is similar to a list comprehension but with parentheses instead of square brackets. It's a more compact way to define generators.\n",
        "\n",
        "  Example of a Generator Expression:\n",
        "\n",
        "   Generator expression to generate squares of numbers from 0 to 4\n",
        "    squares_gen = (i * i for i in range(5))\n",
        "\n",
        " Using next() to iterate through the generator\n",
        "    print(next(squares_gen))  # Output: 0\n",
        "    print(next(squares_gen))  # Output: 1\n",
        "    print(next(squares_gen))  # Output: 4\n",
        "    print(next(squares_gen))  # Output: 9\n",
        "    print(next(squares_gen))  # Output: 16\n",
        "\n",
        "\n",
        "7. What are the advantages of using generators over regular functions.\n",
        "  - Generators provide several advantages over regular functions (those that use return to return values). These advantages primarily revolve around memory efficiency, performance, and lazy evaluation. Let’s explore these advantages in detail:\n",
        "\n",
        "      1. Memory Efficiency\n",
        "      Generators produce values one at a time, only when requested, meaning they do not store the entire sequence in memory.\n",
        "\n",
        "      Regular functions (that use return) typically need to store the entire result in memory, which can be problematic for large datasets.\n",
        "\n",
        "  Example:\n",
        "      Imagine you want to calculate the sum of squares of numbers from 1 to 1 million:\n",
        "\n",
        "    Using a regular function (with return):\n",
        "\n",
        "      A regular function would compute and store all values in memory before returning, consuming a lot of space.\n",
        "\n",
        "    def squares(n):\n",
        "    return [i*i for i in range(n)]  # stores all numbers in memory\n",
        "  Using a generator (with yield):\n",
        "\n",
        "  A generator, on the other hand, computes values one by one, reducing memory usage.\n",
        "\n",
        "  def squares(n):\n",
        "    for i in range(n):\n",
        "        yield i*i  # computes one value at a time, no storage\n",
        "  With the generator, you don't need to store the entire list in memory. You can iterate over it without holding all the numbers in RAM, making it much more memory-efficient.\n",
        "\n",
        "  2. Lazy Evaluation\n",
        "  Generators allow for lazy evaluation, meaning they compute values only when needed (on-demand).\n",
        "\n",
        "  Regular functions (with return) compute all values immediately and return them all at once, which can be inefficient, especially for large datasets or infinite sequences.\n",
        "\n",
        "  Example:\n",
        "      If you're processing a large file, using a generator will allow you to read and process one line at a time rather than reading the entire file into memory.\n",
        "\n",
        " Generator to process file line by line (lazy evaluation)\n",
        "    def read_lines(file_name):\n",
        "    with open(file_name, 'r') as file:\n",
        "        for line in file:\n",
        "            yield line.strip()  # yields one line at a time\n",
        "\n",
        " Iterate over lines\n",
        "  for line in read_lines('large_file.txt'):\n",
        "     process each line\n",
        "    print(line)\n",
        "  This method is much more efficient than reading all lines at once and storing them in memory.\n",
        "\n",
        "  3. Improved Performance\n",
        "  Generators can improve performance by allowing processing of large datasets or infinite sequences without the need to wait for the entire dataset to be processed or returned.\n",
        "\n",
        "  Regular functions must compute and store all the results at once, which can be slow and resource-intensive for large datasets.\n",
        "\n",
        "  Example: Calculating Fibonacci Numbers\n",
        "      Regular function: A regular function would return a list of all Fibonacci numbers up to a specified number, storing the entire sequence in memory.\n",
        "\n",
        "  def fibonacci(n):\n",
        "    fib_list = [0, 1]\n",
        "    for i in range(2, n):\n",
        "        fib_list.append(fib_list[i-1] + fib_list[i-2])\n",
        "    return fib_list\n",
        "  Generator function: A generator function allows you to generate each Fibonacci number on demand, improving performance and memory usage.\n",
        "\n",
        "  def fibonacci():\n",
        "    a, b = 0, 1\n",
        "    while True:  # Infinite sequence of Fibonacci numbers\n",
        "        yield a\n",
        "        a, b = b, a + b\n",
        "  With the generator, the Fibonacci numbers are computed and yielded one by one as needed, instead of generating the entire sequence upfront.\n",
        "\n",
        "  4. Infinite Sequences\n",
        "  Generators are ideal for generating infinite sequences because they only produce values when requested and don’t require storing the entire sequence.\n",
        "\n",
        "  Regular functions (using return) would require generating and storing the entire sequence, which is not feasible for infinite sequences.\n",
        "\n",
        "  Example:\n",
        "      If you want to generate an infinite sequence of prime numbers:\n",
        "\n",
        "  Using a regular function:\n",
        "\n",
        "  You would need to store all the prime numbers in a list, which is not possible for an infinite sequence.\n",
        "\n",
        "  Using a generator:\n",
        "\n",
        "  A generator allows you to generate primes on-demand, making it feasible to wo\n",
        "    def generate_primes():\n",
        "    num = 2\n",
        "    while True:  # Infinite loop\n",
        "        if all(num % i != 0 for i in range(2, int(num ** 0.5) + 1)):\n",
        "            yield num\n",
        "        num += 1\n",
        "\n",
        " Get the first 10 primes\n",
        "  prime_gen = generate_primes()\n",
        "    for _ in range(10):\n",
        "    print(next(prime_gen))\n",
        "  This generator will keep producing primes indefinitely without consuming all memory, as opposed to trying to store an infinite list of primes.\n",
        "\n",
        "  5. Code Simplicity and Readability\n",
        "  Generators can often simplify your code by removing the need for manually handling state and iterating through items in loops.\n",
        "\n",
        "  Regular functions (using return) often require more boilerplate code to create and manage the entire sequence before returning it.\n",
        "\n",
        "  Example:\n",
        "    Regular function (returns a list):\n",
        "\n",
        "  Requires initializing a list and manually appending to it.\n",
        "\n",
        "\n",
        "  def even_numbers(n):\n",
        "    result = []\n",
        "    for i in range(n):\n",
        "        if i % 2 == 0:\n",
        "            result.append(i)\n",
        "    return result\n",
        "  Generator function (using yield):\n",
        "\n",
        "  Much simpler and cleaner.\n",
        "\n",
        "\n",
        "    def even_numbers(n):\n",
        "    for i in range(n):\n",
        "        if i % 2 == 0:\n",
        "            yield i  # yield values one by one\n",
        "The generator simplifies the code by removing the need to explicitly maintain a list, reducing complexity.\n",
        "\n",
        "  6. State Retention Between Iterations\n",
        "  Generators retain their state between successive calls to next(). After yielding a value, a generator function \"pauses\", and on the next call, it resumes execution from where it left off.\n",
        "\n",
        "  Regular functions do not retain any state between calls. They always restart their execution from the top when called again.\n",
        "\n",
        "  Example:\n",
        "   Generator example with state retention\n",
        "    def count_up_to(n):\n",
        "    count = 1\n",
        "    while count <= n:\n",
        "        yield count  # retains state and continues from here on next call\n",
        "        count += 1\n",
        "\n",
        "  counter = count_up_to(3)\n",
        "  print(next(counter))  # Output: 1\n",
        "  print(next(counter))  # Output: 2\n",
        "  print(next(counter))  # Output: 3\n",
        "  Calling next() again would raise StopIteration\n",
        "  In contrast, a regular function would not retain any of the state between calls.\n",
        "\n",
        "8. What is a lambda function in Python and when is it typically used?\n",
        "  - In Python, a lambda function is a small, anonymous function defined using the lambda keyword, typically used for short, one-time operations, and can take any number of arguments but only return a single expression.\n",
        "  Python\n",
        "\n",
        " Using a lambda function with sorted() to sort a list of tuples by the second element\n",
        "  my_list = [(1, 5), (3, 2), (2, 8)]\n",
        "    sorted_list = sorted(my_list, key=lambda x: x[1]) # Sort by the second element of each tuple\n",
        "    print(sorted_list) # Output: [(3, 2), (1, 5), (2, 8)]\n",
        "\n",
        "9. Explain the purpose and usage of the `map()` function in Python.\n",
        "  - The Python map() function applies a given function to each item in an iterable (like a list or tuple) and returns an iterator that yields the results, effectively \"mapping\" the function across the iterable's elements\n",
        "  numbers = [1, 2, 3, 4]\n",
        "    squares = map(lambda x: x**2, numbers)  # Apply a lambda function to square each number\n",
        "    print(list(squares))  # Convert to a list and print: [1, 4, 9, 16]\n",
        "\n",
        "10. What is the difference between `map()`, `reduce()`, and `filter()` functions in Python?\n",
        "  - In Python, map(), reduce(), and filter() are functional programming tools that allow you to operate on sequences (like lists) and apply functions to their elements in a concise, efficient manner. These functions work in a similar way but serve different purposes and have different behaviors.\n",
        "\n",
        "  Let’s explore each of these functions and their differences:\n",
        "\n",
        "  1. map() Function:\n",
        "  Purpose: map() applies a function to every item in an iterable (like a list or tuple) and returns an iterator (or map object) that yields the results.\n",
        "\n",
        "  Usage: It is used when you want to transform every element of an iterable by applying a given function.\n",
        "\n",
        "  Syntax:\n",
        "\n",
        "  map(function, iterable)\n",
        "  function: The function to apply to each element of the iterable.\n",
        "\n",
        "  iterable: The iterable (list, tuple, etc.) whose elements will be processed.\n",
        "\n",
        "  Example:\n",
        "   Function to square a number\n",
        "    def square(x):\n",
        "    return x * x\n",
        "\n",
        " List of numbers\n",
        "    numbers = [1, 2, 3, 4, 5]\n",
        "\n",
        " Using map to apply the function to each element of the list\n",
        "  squared_numbers = map(square, numbers)\n",
        "\n",
        " Converting map object to a list and printing it\n",
        "    print(list(squared_numbers))  # Output: [1, 4, 9, 16, 25]\n",
        "  Key Points:\n",
        "  map() returns an iterator, so it is memory efficient when working with large datasets.\n",
        "\n",
        "  The function passed to map() is applied to each item individually.\n",
        "\n",
        "  2. reduce() Function (from functools module):\n",
        "  Purpose: reduce() reduces a sequence to a single cumulative value by applying a binary function (a function that takes two arguments) in a cumulative manner.\n",
        "\n",
        "  Usage: It is used when you want to combine elements of an iterable into a single result, such as summing or multiplying all numbers in a list.\n",
        "\n",
        "  Syntax:\n",
        "  from functools import reduce\n",
        "\n",
        "  reduce(function, iterable, [initial])\n",
        "  function: A function that takes two arguments and returns a single value.\n",
        "\n",
        "  iterable: The iterable whose elements will be reduced.\n",
        "\n",
        "  initial (optional): A starting value to begin the reduction. If not provided, the first element of the iterable is used as the starting value.\n",
        "\n",
        "  Example:\n",
        "  from functools import reduce\n",
        "\n",
        " Function to add two numbers\n",
        "    def add(x, y):\n",
        "    return x + y\n",
        "\n",
        " List of numbers\n",
        "  numbers = [1, 2, 3, 4, 5]\n",
        "\n",
        " Using reduce to apply the function to combine the numbers\n",
        "  result = reduce(add, numbers)\n",
        "\n",
        "  print(result)  # Output: 15 (1+2+3+4+5)\n",
        "  Key Points:\n",
        "  reduce() reduces the iterable to a single value by applying a function cumulatively.\n",
        "\n",
        "  The function is applied pairwise, so the result of each application is passed to the next iteration.\n",
        "\n",
        "  3. filter() Function:\n",
        "  Purpose: filter() filters out elements from an iterable based on a condition. It only returns elements that satisfy the condition (i.e., the function returns True).\n",
        "\n",
        "  Usage: It is used when you want to filter elements from a sequence based on a given condition.\n",
        "\n",
        "  Syntax:\n",
        "  filter(function, iterable)\n",
        "  function: A function that returns a Boolean value (True or False) for each item in the iterable.\n",
        "\n",
        "  iterable: The iterable whose elements will be filtered.\n",
        "\n",
        "  Example:\n",
        "   Function to check if a number is even\n",
        "    def is_even(x):\n",
        "    return x % 2 == 0\n",
        "\n",
        " List of numbers\n",
        "  numbers = [1, 2, 3, 4, 5, 6]\n",
        "\n",
        " Using filter to get only the even numbers\n",
        "  even_numbers = filter(is_even, numbers)\n",
        "\n",
        " Converting filter object to list and printing it\n",
        "  print(list(even_numbers))  # Output: [2, 4, 6]\n",
        "  Key Points:\n",
        "  filter() returns an iterator of the elements that satisfy the condition (those for which the function returns True).\n",
        "\n",
        "  Elements for which the function returns False are excluded from the result.\n",
        "  \n",
        "\n",
        "11. Using pen & Paper write the internal mechanism for sum operation using  reduce function on this given\n",
        "list:[47,11,42,13].\n",
        "  -"
      ],
      "metadata": {
        "id": "qqgwh5UcFxDc"
      }
    },
    {
      "cell_type": "code",
      "source": [
        "from functools import reduce\n",
        "\n",
        "# Define the addition function\n",
        "def add(x, y):\n",
        "    return x + y\n",
        "\n",
        "# List of numbers\n",
        "numbers = [47, 11, 42, 13]\n",
        "\n",
        "# Using reduce to sum the numbers\n",
        "result = reduce(add, numbers)\n",
        "print(result)  # Output: 113"
      ],
      "metadata": {
        "colab": {
          "base_uri": "https://localhost:8080/"
        },
        "id": "qaiIyZWlQuBJ",
        "outputId": "248e03a4-8f35-45c5-8030-d7c1e7ef8dd3"
      },
      "execution_count": 5,
      "outputs": [
        {
          "output_type": "stream",
          "name": "stdout",
          "text": [
            "113\n"
          ]
        }
      ]
    },
    {
      "cell_type": "markdown",
      "source": [
        "Practical Question"
      ],
      "metadata": {
        "id": "w9upKd48RBTj"
      }
    },
    {
      "cell_type": "code",
      "source": [
        "# 1. Write a Python function that takes a list of numbers as input and returns the sum of all even numbers in the list.\n",
        "def sum_of_even_numbers(numbers):\n",
        "    return sum(num for num in numbers if num % 2 == 0)\n",
        "\n",
        "# Example usage:\n",
        "example_list = [10, 20, 99, 40, 50]\n",
        "even_sum_result = sum_of_even_numbers(example_list)\n",
        "print(\"Sum of even numbers:\", even_sum_result)"
      ],
      "metadata": {
        "colab": {
          "base_uri": "https://localhost:8080/"
        },
        "id": "xap_bpuhRAbZ",
        "outputId": "f61f75d2-ecf3-4a8f-a561-eea8edf1566c"
      },
      "execution_count": 9,
      "outputs": [
        {
          "output_type": "stream",
          "name": "stdout",
          "text": [
            "Sum of even numbers: 120\n"
          ]
        }
      ]
    },
    {
      "cell_type": "code",
      "source": [
        "#2. Create a Python function that accepts a string and returns the reverse of that string.\n",
        "def reverse_string(input_string):\n",
        "    return input_string[::-1]\n",
        "\n",
        "# Example usage:\n",
        "example_string = \"Hello, World!\"\n",
        "reversed_string = reverse_string(example_string)\n",
        "print(\"Reversed string:\", reversed_string)\n"
      ],
      "metadata": {
        "colab": {
          "base_uri": "https://localhost:8080/"
        },
        "id": "ufZelTSWLojH",
        "outputId": "ee25e916-acc3-4ba9-c3d5-79b5c83fb5e3"
      },
      "execution_count": 10,
      "outputs": [
        {
          "output_type": "stream",
          "name": "stdout",
          "text": [
            "Reversed string: !dlroW ,olleH\n"
          ]
        }
      ]
    },
    {
      "cell_type": "code",
      "source": [
        "# 3. Implement a Python function that takes a list of integers and returns a new list containing the squares of each number.\n",
        "def square_numbers(numbers):\n",
        "    return [num ** 2 for num in numbers]\n",
        "\n",
        "# Example usage:\n",
        "example_list = [10, 20, 99, 40, 50]\n",
        "squared_list = square_numbers(example_list)\n",
        "print(\"Squared numbers:\", squared_list)"
      ],
      "metadata": {
        "colab": {
          "base_uri": "https://localhost:8080/"
        },
        "id": "BVd6gbMHL3rz",
        "outputId": "06f507f2-9839-4f91-987e-525fee6bdc55"
      },
      "execution_count": 12,
      "outputs": [
        {
          "output_type": "stream",
          "name": "stdout",
          "text": [
            "Squared numbers: [100, 400, 9801, 1600, 2500]\n"
          ]
        }
      ]
    },
    {
      "cell_type": "code",
      "source": [
        "# 4. Write a Python function that checks if a given number is prime or not from 1 to 200.\n",
        "def is_prime(num):\n",
        "    if num < 2:\n",
        "        return False\n",
        "    for i in range(2, int(num ** 0.5) + 1):\n",
        "        if num % i == 0:\n",
        "            return False\n",
        "    return True\n",
        "\n",
        "# Check prime numbers from 1 to 200\n",
        "prime_numbers = [n for n in range(1, 201) if is_prime(n)]\n",
        "print(\"Prime numbers from 1 to 200:\", prime_numbers)"
      ],
      "metadata": {
        "colab": {
          "base_uri": "https://localhost:8080/"
        },
        "id": "b0Ih9aa9R9jD",
        "outputId": "6ea988f1-73ca-47cf-b2b2-b125045a48e6"
      },
      "execution_count": 13,
      "outputs": [
        {
          "output_type": "stream",
          "name": "stdout",
          "text": [
            "Prime numbers from 1 to 200: [2, 3, 5, 7, 11, 13, 17, 19, 23, 29, 31, 37, 41, 43, 47, 53, 59, 61, 67, 71, 73, 79, 83, 89, 97, 101, 103, 107, 109, 113, 127, 131, 137, 139, 149, 151, 157, 163, 167, 173, 179, 181, 191, 193, 197, 199]\n"
          ]
        }
      ]
    },
    {
      "cell_type": "code",
      "source": [
        "# 5. Create an iterator class in Python that generates the Fibonacci sequence up to a specified number of terms.\n",
        "class FibonacciIterator:\n",
        "    def __init__(self, num_terms):\n",
        "        self.num_terms = num_terms\n",
        "        self.current = 0\n",
        "        self.next = 1\n",
        "        self.count = 0\n",
        "\n",
        "    def __iter__(self):\n",
        "        return self\n",
        "\n",
        "    def __next__(self):\n",
        "        if self.count >= self.num_terms:\n",
        "            raise StopIteration\n",
        "        if self.count == 0:\n",
        "            self.count += 1\n",
        "            return self.current\n",
        "        elif self.count == 1:\n",
        "            self.count += 1\n",
        "            return self.next\n",
        "        else:\n",
        "            fib = self.current + self.next\n",
        "            self.current, self.next = self.next, fib\n",
        "            self.count += 1\n",
        "            return fib\n",
        "\n",
        "# Example usage:\n",
        "fib_iterator = FibonacciIterator(10)\n",
        "for num in fib_iterator:\n",
        "    print(num)"
      ],
      "metadata": {
        "colab": {
          "base_uri": "https://localhost:8080/"
        },
        "id": "G1bh9kk4SVJ7",
        "outputId": "f7e4e501-d898-4846-9ca8-10efbdd3b0af"
      },
      "execution_count": 14,
      "outputs": [
        {
          "output_type": "stream",
          "name": "stdout",
          "text": [
            "0\n",
            "1\n",
            "1\n",
            "2\n",
            "3\n",
            "5\n",
            "8\n",
            "13\n",
            "21\n",
            "34\n"
          ]
        }
      ]
    },
    {
      "cell_type": "code",
      "source": [
        "# 6. Write a generator function in Python that yields the powers of 2 up to a given exponent.\n",
        "\n",
        "def powers_of_two(max_exponent):\n",
        "    for exponent in range(max_exponent + 1):\n",
        "        yield 2 ** exponent\n",
        "\n",
        "# Example usage:\n",
        "for power in powers_of_two(10):\n",
        "    print(power)"
      ],
      "metadata": {
        "colab": {
          "base_uri": "https://localhost:8080/"
        },
        "id": "dBDRiQdlSmOW",
        "outputId": "0def8c02-9ca4-46e7-b854-b6dfd2fa7579"
      },
      "execution_count": 15,
      "outputs": [
        {
          "output_type": "stream",
          "name": "stdout",
          "text": [
            "1\n",
            "2\n",
            "4\n",
            "8\n",
            "16\n",
            "32\n",
            "64\n",
            "128\n",
            "256\n",
            "512\n",
            "1024\n"
          ]
        }
      ]
    },
    {
      "cell_type": "code",
      "source": [
        "# 7. Implement a generator function that reads a file line by line and yields each line as a string.\n",
        "def read_file_line_by_line(file_path):\n",
        "    with open(file_path, 'r') as file:\n",
        "        for line in file:\n",
        "            yield line.strip()  # Strip removes any leading/trailing whitespace\n"
      ],
      "metadata": {
        "id": "Fl1018C1SuAr"
      },
      "execution_count": 16,
      "outputs": []
    },
    {
      "cell_type": "code",
      "source": [
        "# 8. Use a lambda function in Python to sort a list of tuples based on the second element of each tuple.\n",
        "# Example list of tuples\n",
        "tuples_list = [(1, 3), (4, 1), (2, 2), (5, 0)]\n",
        "\n",
        "# Sorting the list of tuples based on the second element\n",
        "sorted_tuples = sorted(tuples_list, key=lambda x: x[1])\n",
        "\n",
        "print(\"Sorted list of tuples:\", sorted_tuples)"
      ],
      "metadata": {
        "colab": {
          "base_uri": "https://localhost:8080/"
        },
        "id": "6gAM_qLUS5NR",
        "outputId": "f2faab97-5a55-4bef-c516-ab43d445f889"
      },
      "execution_count": 17,
      "outputs": [
        {
          "output_type": "stream",
          "name": "stdout",
          "text": [
            "Sorted list of tuples: [(5, 0), (4, 1), (2, 2), (1, 3)]\n"
          ]
        }
      ]
    },
    {
      "cell_type": "code",
      "source": [
        "# 9. Write a Python program that uses `map()` to convert a list of temperatures from Celsius to Fahrenheit.\n",
        " # List of temperatures in Celsius\n",
        "celsius_temperatures = [0, 20, 30, 40, 100]\n",
        "\n",
        "# Function to convert Celsius to Fahrenheit\n",
        "def celsius_to_fahrenheit(celsius):\n",
        "    return (celsius * 9/5) + 32\n",
        "\n",
        "# Convert the temperatures using map()\n",
        "fahrenheit_temperatures = list(map(celsius_to_fahrenheit, celsius_temperatures))\n",
        "\n",
        "print(\"Temperatures in Fahrenheit:\", fahrenheit_temperatures)"
      ],
      "metadata": {
        "colab": {
          "base_uri": "https://localhost:8080/"
        },
        "id": "LBzz1AtLTNbu",
        "outputId": "b596bff5-d9e3-40e0-b3ea-ae794c26ee7d"
      },
      "execution_count": 18,
      "outputs": [
        {
          "output_type": "stream",
          "name": "stdout",
          "text": [
            "Temperatures in Fahrenheit: [32.0, 68.0, 86.0, 104.0, 212.0]\n"
          ]
        }
      ]
    },
    {
      "cell_type": "code",
      "source": [
        "# 10. Create a Python program that uses `filter()` to remove all the vowels from a given string.\n",
        "def remove_vowels(input_string):\n",
        "    # Define a function that returns True if the character is not a vowel\n",
        "    def is_not_vowel(char):\n",
        "        return char.lower() not in 'aeiou'  # Check if character is not a vowel\n",
        "\n",
        "    # Use filter to keep only characters that are not vowels\n",
        "    filtered_string = filter(is_not_vowel, input_string)\n",
        "\n",
        "    # Join the filtered characters back into a string\n",
        "    return ''.join(filtered_string)\n",
        "\n",
        "# Example usage:\n",
        "input_string = \"Hello, World!\"\n",
        "result = remove_vowels(input_string)\n",
        "print(\"String without vowels:\", result)"
      ],
      "metadata": {
        "colab": {
          "base_uri": "https://localhost:8080/"
        },
        "id": "laHlp672TYc6",
        "outputId": "99f6c85f-33e2-428c-ae92-7c79c2808fe8"
      },
      "execution_count": 23,
      "outputs": [
        {
          "output_type": "stream",
          "name": "stdout",
          "text": [
            "String without vowels: Hll, Wrld!\n"
          ]
        }
      ]
    },
    {
      "cell_type": "code",
      "source": [
        "# Question number 11\n",
        "\n",
        "def calculate_order_totals(orders):\n",
        "    # Using map and lambda to process each order\n",
        "    return list(map(lambda order: (\n",
        "        order[0],  # Order number\n",
        "        order[2] * order[3] + 10 if order[2] * order[3] < 100 else order[2] * order[3]  # Price * quantity with bonus if necessary\n",
        "    ), orders))\n",
        "\n",
        "# Example list of orders: [Order Number, Book Title and Author, Quantity, Price per Item]\n",
        "orders = [\n",
        "    [34587, \"Learning Python, Mark Lutz\", 4, 40.95],\n",
        "    [98762, \"Programming Python, Mark Lutz\", 5, 56.8],\n",
        "    [77226, \"Head First Python, Paul Barry\", 3, 32.95],\n",
        "    [88112, \"Einführung in Python3, Bernd Klein\", 3, 24.99]\n",
        "]\n",
        "\n",
        "# Calling the function\n",
        "processed_orders = calculate_order_totals(orders)\n",
        "\n",
        "# Output the result\n",
        "print(processed_orders)"
      ],
      "metadata": {
        "colab": {
          "base_uri": "https://localhost:8080/"
        },
        "id": "JJ408pmqTkoq",
        "outputId": "c6082f89-1c74-4e8c-a4c3-e42d19c2da2e"
      },
      "execution_count": 24,
      "outputs": [
        {
          "output_type": "stream",
          "name": "stdout",
          "text": [
            "[(34587, 163.8), (98762, 284.0), (77226, 108.85000000000001), (88112, 84.97)]\n"
          ]
        }
      ]
    },
    {
      "cell_type": "code",
      "source": [],
      "metadata": {
        "id": "3mc6bScDVyhk"
      },
      "execution_count": null,
      "outputs": []
    }
  ]
}